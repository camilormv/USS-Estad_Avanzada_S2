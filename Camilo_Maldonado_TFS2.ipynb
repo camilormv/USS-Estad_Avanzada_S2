{
 "cells": [
  {
   "cell_type": "markdown",
   "metadata": {},
   "source": [
    "## **Taller formativo Semana 2**\n",
    "### **Curso**: Estadística Avanzada\n",
    "### **Unidad 1**: Fundamentos de estadística avanzada\n",
    "\n",
    "**Profesor:** Daniel Galves Arancibia\n",
    "\n",
    "**Estudiante:** Camilo Roberto Maldonado Valderrama"
   ]
  },
  {
   "cell_type": "markdown",
   "metadata": {},
   "source": [
    "**Pregunta 1:** Cargar el conjunto de datos proporcionado.\n",
    "\n",
    "**Respuesta:** El sigueinte script importa la librería pandas para la manipulación del conunto de datos y cargar en un dataframe. A través de los métros head(), describe() e info() se obtiene la caracterización del dataset, su encabezado, estadísticas descriptivas principales e información de registros y tipo de datos. "
   ]
  },
  {
   "cell_type": "code",
   "execution_count": 1,
   "metadata": {},
   "outputs": [
    {
     "name": "stdout",
     "output_type": "stream",
     "text": [
      "   student_id exam_score  passed\n",
      "0           1      92.64       1\n",
      "1           2       79.0       0\n",
      "2           3      84.79       0\n",
      "3           4      97.41       0\n",
      "4           5      93.68       0\n",
      "       student_id      passed\n",
      "count  149.000000  149.000000\n",
      "mean    75.000000    0.677852\n",
      "std     43.156691    0.468875\n",
      "min      1.000000    0.000000\n",
      "25%     38.000000    0.000000\n",
      "50%     75.000000    1.000000\n",
      "75%    112.000000    1.000000\n",
      "max    149.000000    1.000000\n",
      "<class 'pandas.core.frame.DataFrame'>\n",
      "RangeIndex: 149 entries, 0 to 148\n",
      "Data columns (total 3 columns):\n",
      " #   Column      Non-Null Count  Dtype \n",
      "---  ------      --------------  ----- \n",
      " 0   student_id  149 non-null    int64 \n",
      " 1   exam_score  149 non-null    object\n",
      " 2   passed      149 non-null    int64 \n",
      "dtypes: int64(2), object(1)\n",
      "memory usage: 3.6+ KB\n",
      "None\n"
     ]
    }
   ],
   "source": [
    "import pandas as pd\n",
    "\n",
    "# Leer el archivo Excel\n",
    "df = pd.read_excel('taller_datos_S2.xlsx')\n",
    "\n",
    "# Mostrar el encabezado de la tabla\n",
    "print(df.head())\n",
    "\n",
    "# Mostrar estadísticas descriptivas con el método describe()\n",
    "print(df.describe())\n",
    "\n",
    "# Mostrar info()\n",
    "print(df.info())"
   ]
  },
  {
   "cell_type": "markdown",
   "metadata": {},
   "source": [
    "**Limpieza de datos:** Antes de avanzar en cálculos estadísticos realziaremos una limpieza de los datos. Como muestra el método info() de la tabla anterior la columna 'exam_score' posee datos de tipo object. Con este tipo de dato no es posible realizar cálculos estadisticos por lo que se remplazará a tipo de dato numérico float."
   ]
  },
  {
   "cell_type": "code",
   "execution_count": 2,
   "metadata": {},
   "outputs": [
    {
     "name": "stdout",
     "output_type": "stream",
     "text": [
      "student_id      int64\n",
      "exam_score    float64\n",
      "passed          int64\n",
      "dtype: object\n",
      "   student_id  exam_score  passed\n",
      "0           1       92.64       1\n",
      "1           2       79.00       0\n",
      "2           3       84.79       0\n",
      "3           4       97.41       0\n",
      "4           5       93.68       0\n"
     ]
    }
   ],
   "source": [
    "# Limpiar la columna 'exam_score' para eliminar comas, puntos extra y convertir a float\n",
    "df['exam_score'] = df['exam_score'].str.replace(',', '.').str.rstrip('.').astype(float)\n",
    "\n",
    "# Verificar el tipo de dato de la columna 'exam_score' después de la conversión\n",
    "print(df.dtypes)\n",
    "\n",
    "# Mostrar las primeras filas del DataFrame para verificar la conversión\n",
    "print(df.head())"
   ]
  },
  {
   "cell_type": "markdown",
   "metadata": {},
   "source": [
    "**Pregunta 2:** Calcular la media muestral y la varianza muestral."
   ]
  },
  {
   "cell_type": "code",
   "execution_count": 4,
   "metadata": {},
   "outputs": [
    {
     "name": "stdout",
     "output_type": "stream",
     "text": [
      "Media muestral de las calificaciones: 76.29\n",
      "Varianza muestral de las calificaciones: 105.26\n"
     ]
    }
   ],
   "source": [
    "# Calcular la media muestral de las calificaciones\n",
    "media_muestral = df['exam_score'].mean()\n",
    "\n",
    "# Calcular la varianza muestral de las calificaciones\n",
    "varianza_muestral = df['exam_score'].var(ddof=1)  # ddof=1 para varianza muestral\n",
    "\n",
    "# Mostrar los resultados\n",
    "print(f\"Media muestral de las calificaciones: {media_muestral:.2f}\")\n",
    "print(f\"Varianza muestral de las calificaciones: {varianza_muestral:.2f}\")"
   ]
  },
  {
   "cell_type": "markdown",
   "metadata": {},
   "source": [
    "**Pregunta 3:** Comparar las estimaciones puntuales con las estadísticas conocidas de la población, si están disponibles.\n",
    "\n",
    "**Respuesta:** Este punto será omitido ya que no existen datos de la población. sólo se tienen datos de los 150 registros del archivo excel proporcionado."
   ]
  },
  {
   "cell_type": "markdown",
   "metadata": {},
   "source": [
    "**Pregunta 4:** Seleccionar una muestra aleatoria del conjunto de datos.\n",
    "\n",
    "**Respuesta:** Se seleccionará una muestra aleatoria de 30 registros del conjunto de datos. Este tamaño de muestra es arbitrario. El parámetro random_state se utiliza para asegurar que los resultados sean reproducibles."
   ]
  },
  {
   "cell_type": "code",
   "execution_count": 6,
   "metadata": {},
   "outputs": [
    {
     "name": "stdout",
     "output_type": "stream",
     "text": [
      "     student_id  exam_score  passed\n",
      "73           74       62.65       1\n",
      "18           19       78.13       1\n",
      "117         118       73.45       0\n",
      "78           79       71.88       0\n",
      "76           77       66.29       1\n"
     ]
    }
   ],
   "source": [
    "# Seleccionar una muestra aleatoria de tamaño 30 \n",
    "muestra_aleatoria = df.sample(n=30, random_state=42) \n",
    "\n",
    "# Mostrar la muestra aleatoria\n",
    "print(muestra_aleatoria.head())"
   ]
  },
  {
   "cell_type": "markdown",
   "metadata": {},
   "source": [
    "**Pregunta 5:** Calcular el intervalo de confianza del 95% para la media de la muestra.\n",
    "\n",
    "**Respuesta:** Para calcular el intervalo de confianza del 95% para la media de la muestra, seguimos los siguientes pasos:\n",
    "\n",
    "1. **Calcular la media de la muestra**: Obtenemos la media de la columna `exam_score` de la muestra aleatoria seleccionada, utilizando `media_muestral = muestra_aleatoria['exam_score'].mean()`.\n",
    "\n",
    "2. **Calcular la desviación estándar de la muestra**: Calculamos la desviación estándar de la muestra con `desviacion_estandar_muestral = muestra_aleatoria['exam_score'].std(ddof=1)`, donde `ddof=1` asegura que se use la fórmula de la desviación estándar muestral.\n",
    "\n",
    "3. **Determinar el tamaño de la muestra**: Obtenemos el tamaño de la muestra con `tamaño_muestra = len(muestra_aleatoria)`.\n",
    "\n",
    "4. **Establecer el nivel de confianza**: Definimos el nivel de confianza en 95%, lo que implica que `nivel_confianza = 0.95` y `alfa = 1 - nivel_confianza`.\n",
    "\n",
    "5. **Calcular el valor crítico $$Z_{\\alpha/2}$$**: Utilizamos `z_critical = stats.norm.ppf(1 - alfa/2)` para obtener el valor crítico de la distribución normal estándar, que es aproximadamente 1.96 para un nivel de confianza del 95%.\n",
    "\n",
    "6. **Calcular el error estándar**: Calculamos el error estándar con la fórmula $$\\text{Error estándar} = \\frac{s}{\\sqrt{n}}$$, donde $$s$$ es la desviación estándar de la muestra y $$n$$ es el tamaño de la muestra. En el código, esto se hace con `error_estandar = desviacion_estandar_muestral / np.sqrt(tamaño_muestra)`.\n",
    "\n",
    "7. **Calcular el margen de error**: El margen de error se obtiene multiplicando el valor crítico por el error estándar, es decir, $$\\text{Margen de error} = Z_{\\alpha/2} \\cdot \\frac{s}{\\sqrt{n}}$$. En el código, esto es `margen_error = z_critical * error_estandar`.\n",
    "\n",
    "8. **Calcular el intervalo de confianza**: Finalmente, calculamos el intervalo de confianza utilizando la fórmula $$\\text{Intervalo de confianza} = \\bar{x} \\pm Z_{\\alpha/2} \\cdot \\frac{s}{\\sqrt{n}}$$, donde $$\\bar{x}$$ es la media de la muestra. En el código, esto se hace con `intervalo_confianza = (media_muestral - margen_error, media_muestral + margen_error)`.\n",
    "\n",
    "9. **Mostrar los resultados**: Imprimimos la media muestral, la desviación estándar muestral y el intervalo de confianza calculado.\n",
    "\n",
    "La fórmula matemática para el intervalo de confianza es:\n",
    "\n",
    "$$\n",
    "\\text{Intervalo de confianza} = \\bar{x} \\pm Z_{\\alpha/2} \\cdot \\frac{s}{\\sqrt{n}}\n",
    "$$\n",
    "\n",
    "donde:\n",
    "- $\\bar{x}$ es la media de la muestra,\n",
    "- $s$ es la desviación estándar de la muestra,\n",
    "- $n$ es el tamaño de la muestra,\n",
    "- $Z_{\\alpha/2}$ es el valor crítico de la distribución normal estándar para un nivel de confianza del 95%, que es aproximadamente 1.96."
   ]
  },
  {
   "cell_type": "code",
   "execution_count": 8,
   "metadata": {},
   "outputs": [
    {
     "name": "stdout",
     "output_type": "stream",
     "text": [
      "Media muestral: 78.01\n",
      "Desviación estándar muestral: 9.86\n",
      "Intervalo de confianza del 95% para la media de la muestra: 74.48 a 81.54\n"
     ]
    }
   ],
   "source": [
    "import numpy as np\n",
    "from scipy import stats\n",
    "\n",
    "# Calcular la media de la muestra\n",
    "media_muestral = muestra_aleatoria['exam_score'].mean()\n",
    "\n",
    "# Calcular la desviación estándar de la muestra\n",
    "desviacion_estandar_muestral = muestra_aleatoria['exam_score'].std(ddof=1)  # ddof=1 para desviación estándar muestral\n",
    "\n",
    "# Tamaño de la muestra\n",
    "tamaño_muestra = len(muestra_aleatoria)\n",
    "\n",
    "# Nivel de confianza del 95%\n",
    "nivel_confianza = 0.95\n",
    "alfa = 1 - nivel_confianza\n",
    "z_critical = stats.norm.ppf(1 - alfa/2)\n",
    "\n",
    "# Error estándar\n",
    "error_estandar = desviacion_estandar_muestral / np.sqrt(tamaño_muestra)\n",
    "\n",
    "# Intervalo de confianza\n",
    "margen_error = z_critical * error_estandar\n",
    "intervalo_confianza = (media_muestral - margen_error, media_muestral + margen_error)\n",
    "\n",
    "# Mostrar los resultados\n",
    "print(f\"Media muestral: {media_muestral:.2f}\")\n",
    "print(f\"Desviación estándar muestral: {desviacion_estandar_muestral:.2f}\")\n",
    "print(f\"Intervalo de confianza del 95% para la media de la muestra: {intervalo_confianza[0]:.2f} a {intervalo_confianza[1]:.2f}\")"
   ]
  },
  {
   "cell_type": "markdown",
   "metadata": {},
   "source": [
    "**Pregunta 6:** Calcular el intervalo de confianza del 95% para una proporción en la muestra (e.g., la proporción de estudiantes que aprobaron un examen)."
   ]
  },
  {
   "cell_type": "code",
   "execution_count": 9,
   "metadata": {},
   "outputs": [
    {
     "name": "stdout",
     "output_type": "stream",
     "text": [
      "Proporción de estudiantes que aprobaron el examen: 0.73\n",
      "Intervalo de confianza del 95% para la proporción de aprobados: 0.58 a 0.89\n"
     ]
    }
   ],
   "source": [
    "# Calcular la proporción de estudiantes que aprobaron el examen\n",
    "proporcion_aprobados = muestra_aleatoria['passed'].mean()  # 'passed' es 1 si aprobó, 0 si no aprobó\n",
    "\n",
    "# Tamaño de la muestra\n",
    "tamaño_muestra = len(muestra_aleatoria)\n",
    "\n",
    "# Nivel de confianza del 95%\n",
    "nivel_confianza = 0.95\n",
    "alfa = 1 - nivel_confianza\n",
    "z_critical = stats.norm.ppf(1 - alfa/2)\n",
    "\n",
    "# Error estándar\n",
    "error_estandar = np.sqrt(proporcion_aprobados * (1 - proporcion_aprobados) / tamaño_muestra)\n",
    "\n",
    "# Intervalo de confianza\n",
    "margen_error = z_critical * error_estandar\n",
    "intervalo_confianza = (proporcion_aprobados - margen_error, proporcion_aprobados + margen_error)\n",
    "\n",
    "# Mostrar los resultados\n",
    "print(f\"Proporción de estudiantes que aprobaron el examen: {proporcion_aprobados:.2f}\")\n",
    "print(f\"Intervalo de confianza del 95% para la proporción de aprobados: {intervalo_confianza[0]:.2f} a {intervalo_confianza[1]:.2f}\")"
   ]
  },
  {
   "cell_type": "markdown",
   "metadata": {},
   "source": [
    "**Pregunta 7:** Interpreta los resultados.\n",
    "\n",
    "**Respuesta:**\n",
    "\n",
    "**Proporción de estudiantes que aprobaron el examen: 0.73**\n",
    "\n",
    "Este valor indica que en la muestra seleccionada el 73% de los estudiantes aprobaron el examen.\n",
    "\n",
    "**Intervalo de confianza del 95% para la proporción de aprobados: 0.58 a 0.89**\n",
    "\n",
    "El intervalo de confianza del 95% para la proporción de estudiantes que aprobaron el examen se encuentra entre 0.58 y 0.89. Esto significa que con un nivel de confianza del 95% podemos afirmar que la proporción real de estudiantes que aprobaron el examen en la población completa se encuentra dentro de este rango."
   ]
  },
  {
   "cell_type": "markdown",
   "metadata": {},
   "source": [
    "**Pregunta 8:** Dividir el conjunto de datos en múltiples muestras aleatorias de igual tamaño.\n",
    "\n",
    "**Respuesta:** Para dividir el conjunto de datos en muestras aleatorias de igual tamaño utilizaremos la función 'sample' de pandas. Continuaremos con una muestra de 30 registros. Crearemos 5 muestras iguales. "
   ]
  },
  {
   "cell_type": "code",
   "execution_count": 17,
   "metadata": {},
   "outputs": [
    {
     "name": "stdout",
     "output_type": "stream",
     "text": [
      "Muestra 1:\n",
      "     student_id  exam_score  passed\n",
      "133         134       75.32       1\n",
      "109         110       89.81       1\n",
      "59           60       71.37       1\n",
      "80           81       63.35       1\n",
      "7             8       73.49       1\n",
      "\n",
      "\n",
      "Muestra 2:\n",
      "     student_id  exam_score  passed\n",
      "145         146       84.44       1\n",
      "89           90       85.54       1\n",
      "54           55       74.72       0\n",
      "77           78       69.21       1\n",
      "84           85       89.88       1\n",
      "\n",
      "\n",
      "Muestra 3:\n",
      "     student_id  exam_score  passed\n",
      "115         116       83.02       1\n",
      "48           49       58.86       0\n",
      "3             4       97.41       0\n",
      "42           43       57.94       1\n",
      "126         127       70.65       1\n",
      "\n",
      "\n",
      "Muestra 4:\n",
      "    student_id  exam_score  passed\n",
      "99         100       79.02       0\n",
      "40          41       64.51       1\n",
      "3            4       97.41       0\n",
      "53          54       63.19       0\n",
      "47          48       82.77       0\n",
      "\n",
      "\n",
      "Muestra 5:\n",
      "     student_id  exam_score  passed\n",
      "25           26       60.46       0\n",
      "11           12       89.54       1\n",
      "41           42       60.80       1\n",
      "110         111       93.68       1\n",
      "12           13       82.61       1\n",
      "\n",
      "\n"
     ]
    }
   ],
   "source": [
    "# Tamaño de cada muestra \n",
    "tamaño_muestra = 30\n",
    "\n",
    "# Número de muestras que deseas crear \n",
    "numero_muestras = 5\n",
    "\n",
    "# Lista para almacenar las muestras\n",
    "muestras = []\n",
    "\n",
    "# Crear múltiples muestras aleatorias\n",
    "for i in range(numero_muestras):\n",
    "    # Seleccionar una muestra aleatoria sin reemplazo\n",
    "    muestra = df.sample(n=tamaño_muestra, random_state=i)\n",
    "    muestras.append(muestra)\n",
    "    \n",
    "    # Mostrar la muestra\n",
    "    print(f\"Muestra {i+1}:\")\n",
    "    print(muestra.head())\n",
    "    print(\"\\n\")"
   ]
  },
  {
   "cell_type": "markdown",
   "metadata": {},
   "source": [
    "**Pregunta 9:** Calcular la media de cada muestra.\n",
    "\n",
    "**Respuesta:** "
   ]
  },
  {
   "cell_type": "code",
   "execution_count": 18,
   "metadata": {},
   "outputs": [
    {
     "name": "stdout",
     "output_type": "stream",
     "text": [
      "Media de la muestra 1: 76.03\n",
      "Media de la muestra 2: 75.71\n",
      "Media de la muestra 3: 74.88\n",
      "Media de la muestra 4: 72.88\n",
      "Media de la muestra 5: 76.62\n"
     ]
    }
   ],
   "source": [
    "# Calcular la media de cada muestra\n",
    "for i, muestra in enumerate(muestras):\n",
    "    media_muestral = muestra['exam_score'].mean()\n",
    "    print(f\"Media de la muestra {i+1}: {media_muestral:.2f}\")"
   ]
  },
  {
   "cell_type": "markdown",
   "metadata": {},
   "source": [
    "**Pregunta 10:** Calcular la media de cada muestra.\n",
    "\n",
    "**Respuesta:** Para graficar la media de cada muestra utilziaremos la biblioteca matplotlib."
   ]
  },
  {
   "cell_type": "code",
   "execution_count": 22,
   "metadata": {},
   "outputs": [
    {
     "data": {
      "image/png": "[encoded data removed]",
      "text/plain": [
       "<Figure size 1000x600 with 1 Axes>"
      ]
     },
     "metadata": {},
     "output_type": "display_data"
    }
   ],
   "source": [
    "import matplotlib.pyplot as plt\n",
    "\n",
    "# Número de muestras \n",
    "numero_muestras = 1000 # Aumentamos el número de muestras para una mejor visualización de la distribución\n",
    "\n",
    "# Lista para almacenar las medias muestrales\n",
    "medias_muestrales = []\n",
    "\n",
    "# Crear múltiples muestras aleatorias y calcular sus medias\n",
    "for i in range(numero_muestras):\n",
    "    # Seleccionar una muestra aleatoria sin reemplazo\n",
    "    muestra = df.sample(n=tamaño_muestra, replace=True, random_state=i)  # Usamos replace=True para permitir el muestreo con reemplazo\n",
    "    media_muestral = muestra['exam_score'].mean()\n",
    "    medias_muestrales.append(media_muestral)\n",
    "\n",
    "# Graficar la distribución de las medias muestrales\n",
    "plt.figure(figsize=(10, 6))\n",
    "plt.hist(medias_muestrales, bins=30, edgecolor='black')\n",
    "plt.title('Distribución de las Medias Muestrales')\n",
    "plt.xlabel('Media Muestral')\n",
    "plt.ylabel('Frecuencia')\n",
    "plt.show()"
   ]
  },
  {
   "cell_type": "markdown",
   "metadata": {},
   "source": [
    "**Pregunta 11:** Comparar la distribución obtenida con una distribución normal.\n",
    "\n",
    "**Respuesta:** "
   ]
  },
  {
   "cell_type": "code",
   "execution_count": null,
   "metadata": {},
   "outputs": [
    {
     "data": {
      "image/png": "[encoded data removed]",
      "text/plain": [
       "<Figure size 1000x600 with 1 Axes>"
      ]
     },
     "metadata": {},
     "output_type": "display_data"
    }
   ],
   "source": [
    "# Número de muestras \n",
    "numero_muestras = 1000  # Aumentamos el número de muestras para una mejor visualización de la distribución\n",
    "\n",
    "# Lista para almacenar las medias muestrales\n",
    "medias_muestrales = []\n",
    "\n",
    "# Crear múltiples muestras aleatorias y calcular sus medias\n",
    "for i in range(numero_muestras):\n",
    "    # Seleccionar una muestra aleatoria sin reemplazo\n",
    "    muestra = df.sample(n=tamaño_muestra, replace=True, random_state=i)  # Usamos replace=True para permitir el muestreo con reemplazo\n",
    "    media_muestral = muestra['exam_score'].mean()\n",
    "    medias_muestrales.append(media_muestral)\n",
    "\n",
    "# Calcular la media y el error estándar de las medias muestrales\n",
    "media_medias = np.mean(medias_muestrales)\n",
    "std_medias = np.std(medias_muestrales, ddof=1) / np.sqrt(tamaño_muestra)  # Error estándar de las medias muestrales\n",
    "\n",
    "# Graficar la distribución de las medias muestrales y superponer una distribución normal\n",
    "plt.figure(figsize=(10, 6))\n",
    "plt.hist(medias_muestrales, bins=30, density=True, edgecolor='black', alpha=0.7, label='Distribución de Medias Muestrales')\n",
    "\n",
    "# Generar la curva de densidad normal teórica\n",
    "x = np.linspace(min(medias_muestrales), max(medias_muestrales), 100)\n",
    "y = stats.norm.pdf(x, media_medias, std_medias)\n",
    "plt.plot(x, y, 'r-', lw=2, label='Distribución Normal Teórica')\n",
    "\n",
    "plt.title('Comparación de la Distribución de las Medias Muestrales con una Distribución Normal')\n",
    "plt.xlabel('Media Muestral')\n",
    "plt.ylabel('Densidad')\n",
    "plt.legend()\n",
    "##plt.show()"
   ]
  },
  {
   "cell_type": "markdown",
   "metadata": {},
   "source": [
    "## ANÁLISIS FINAL\n",
    "\n",
    "**1. Descripción de los métodos utilizados**\n",
    "\n",
    "Para llevar a cabo este análisis estadístico, utilizamos el lenguaje de programación Python junto con varias bibliotecas especializadas. Empleamos pandas para la manipulación y análisis de datos, numpy para operaciones numéricas y matplotlib para la visualización gráfica. Además, utilizamos scipy para cálculos estadísticos avanzados, como la obtención de valores críticos de la distribución normal y la generación de curvas de densidad.\n",
    "\n",
    "El proceso comenzó con la lectura de un archivo Excel que contenía datos de calificaciones de exámenes y aprobación de estudiantes. Limpiamos y convertimos los datos a formatos numéricos adecuados para el análisis. Luego, seleccionamos múltiples muestras aleatorias de tamaño fijo (30 estudiantes) y calculamos la media de las calificaciones para cada muestra. También calculamos intervalos de confianza del 95% tanto para la media de las calificaciones como para la proporción de estudiantes que aprobaron el examen. Finalmente, graficamos la distribución de las medias muestrales y la comparamos con una distribución normal teórica.\n",
    "\n",
    "**2. Resultados obtenidos**\n",
    "Los resultados del análisis mostraron que la proporción de estudiantes que aprobaron el examen en la muestra seleccionada fue del 73%. El intervalo de confianza del 95% para esta proporción se situó entre el 58% y el 89%, lo que indica una considerable incertidumbre en la estimación de la proporción real en la población.\n",
    "\n",
    "Para la media de las calificaciones, seleccionamos 1000 muestras aleatorias de 30 estudiantes cada una y calculamos la media de cada muestra. La distribución de estas medias muestrales fue graficada en un histograma con 30 bins. Al comparar esta distribución con una distribución normal teórica, observamos que la densidad máxima de la curva normal alcanzó aproximadamente 1.2, mientras que la densidad máxima del histograma de las medias muestrales fue de alrededor de 0.2. Esto sugiere que la distribución de las medias muestrales es más plana y tiene una mayor variabilidad de lo que predice la distribución normal teórica.\n",
    "\n",
    "**3. Conclusiones**\n",
    "El análisis reveló que, aunque la proporción de estudiantes que aprobaron el examen en la muestra fue alta (73%), el intervalo de confianza del 95% indica una amplia variabilidad en la estimación de la proporción real en la población, oscilando entre el 58% y el 89%. Esto sugiere que, aunque la muestra indica un buen rendimiento, la incertidumbre sobre la proporción real es significativa.\n",
    "\n",
    "La distribución de las medias muestrales no se ajustó perfectamente a una distribución normal, lo cual puede atribuirse a la variabilidad inherente en los datos originales de las calificaciones o al tamaño relativamente pequeño de las muestras (30 estudiantes). Este hallazgo subraya la importancia de considerar la distribución de los datos originales y el tamaño de la muestra al aplicar el Teorema del Límite Central. Para futuros análisis, sería beneficioso aumentar el tamaño de la muestra y evaluar la normalidad de los datos originales para obtener estimaciones más precisas y confiables.\n",
    "\n",
    "**Referencias**\n",
    "McKinney, W. (2012). Python for Data Analysis: Data Wrangling with Pandas, NumPy, and IPython. O'Reilly Media.\n",
    "VanderPlas, J. (2016). Python Data Science Handbook: Essential Tools for Working with Data. O'Reilly Media.\n",
    "Walpole, R. E., Myers, R. H., Myers, S. L., & Ye, K. (2012). Probability and Statistics for Engineers and Scientists (9th ed.). Pearson."
   ]
  },
  {
   "cell_type": "code",
   "execution_count": 26,
   "metadata": {},
   "outputs": [],
   "source": [
    "# Leer el archivo Excel\n",
    "df = pd.read_excel('taller_datos_S2.xlsx')\n",
    "\n",
    "# Limpiar la columna 'exam_score' para eliminar comas, puntos extra y convertir a float\n",
    "df['exam_score'] = df['exam_score'].str.replace(',', '.').str.rstrip('.').astype(float)\n",
    "\n",
    "# Guardar el DataFrame limpio en un archivo CSV\n",
    "df.to_csv('taller_datos_S2_limpio.csv', index=False)"
   ]
  }
 ],
 "metadata": {
  "kernelspec": {
   "display_name": "Python 3",
   "language": "python",
   "name": "python3"
  },
  "language_info": {
   "codemirror_mode": {
    "name": "ipython",
    "version": 3
   },
   "file_extension": ".py",
   "mimetype": "text/x-python",
   "name": "python",
   "nbconvert_exporter": "python",
   "pygments_lexer": "ipython3",
   "version": "3.13.1"
  }
 },
 "nbformat": 4,
 "nbformat_minor": 2
}
