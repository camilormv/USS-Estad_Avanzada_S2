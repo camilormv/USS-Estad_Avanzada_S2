{
 "cells": [
  {
   "cell_type": "markdown",
   "id": "4fb2824a",
   "metadata": {},
   "source": [
    "### Ejercicio 1:"
   ]
  },
  {
   "cell_type": "code",
   "execution_count": 1,
   "id": "82b55d0c",
   "metadata": {},
   "outputs": [
    {
     "name": "stdout",
     "output_type": "stream",
     "text": [
      "Estadístico de prueba Z: -1.708\n"
     ]
    }
   ],
   "source": [
    "import math\n",
    "import scipy.stats as stats\n",
    "\n",
    "# Datos\n",
    "n = 120                    # tamaño de la muestra\n",
    "x = 78                     # número de cuentas con más de dos meses\n",
    "p0 = 0.72                  # proporción hipotética\n",
    "\n",
    "# Proporción muestral\n",
    "p_hat = x / n\n",
    "\n",
    "# Error estándar usando la proporción bajo H0\n",
    "error_estandar = math.sqrt(p0 * (1 - p0) / n)\n",
    "\n",
    "# Cálculo del estadístico de prueba Z\n",
    "z = (p_hat - p0) / error_estandar\n",
    "\n",
    "# Imprimir resultado\n",
    "print(\"Estadístico de prueba Z:\", round(z, 3))"
   ]
  },
  {
   "cell_type": "markdown",
   "id": "ea416a26",
   "metadata": {},
   "source": [
    "### Ejercicio 2:"
   ]
  },
  {
   "cell_type": "code",
   "execution_count": 2,
   "id": "7ff35605",
   "metadata": {},
   "outputs": [
    {
     "name": "stdout",
     "output_type": "stream",
     "text": [
      "Estadístico de prueba t = 2.33\n",
      "Valor crítico t = 1.74\n"
     ]
    }
   ],
   "source": [
    "import math\n",
    "import scipy.stats as stats\n",
    "\n",
    "# Datos del problema\n",
    "n = 18                   # tamaño de la muestra\n",
    "xbar = 236               # media muestral\n",
    "mu0 = 222                # media poblacional hipotética\n",
    "s = 25.5                 # desviación estándar muestral\n",
    "alpha = 0.05             # nivel de significancia\n",
    "\n",
    "# Cálculo del estadístico de prueba t\n",
    "t_stat = (xbar - mu0) / (s / math.sqrt(n))\n",
    "\n",
    "# Grados de libertad\n",
    "df = n - 1\n",
    "\n",
    "# Valor crítico para una prueba de una cola (cola derecha)\n",
    "t_critical = stats.t.ppf(1 - alpha, df)\n",
    "\n",
    "print(\"Estadístico de prueba t =\", round(t_stat, 2))\n",
    "print(\"Valor crítico t =\", round(t_critical, 2))"
   ]
  },
  {
   "cell_type": "markdown",
   "id": "cfe63cd6",
   "metadata": {},
   "source": [
    "### Ejercicio 3: Se desarrolla manual. "
   ]
  },
  {
   "cell_type": "markdown",
   "id": "7719715c",
   "metadata": {},
   "source": [
    "### Ejercicio 4:"
   ]
  },
  {
   "cell_type": "code",
   "execution_count": 4,
   "id": "ae153ab0",
   "metadata": {},
   "outputs": [
    {
     "name": "stdout",
     "output_type": "stream",
     "text": [
      "Estadístico Z = 1.0206\n",
      "Probabilidad de que la proporción muestral > 0.45 = 0.1537\n"
     ]
    }
   ],
   "source": [
    "import math\n",
    "import scipy.stats as stats\n",
    "\n",
    "# Parámetros\n",
    "p = 0.40         # Proporción poblacional\n",
    "n = 100          # Tamaño de la muestra\n",
    "threshold = 0.45 # Proporción de interés\n",
    "\n",
    "# Media y error estándar de la proporción muestral\n",
    "mu = p\n",
    "sigma = math.sqrt(p * (1 - p) / n)\n",
    "\n",
    "# Cálculo del estadístico Z\n",
    "z = (threshold - mu) / sigma\n",
    "\n",
    "# Probabilidad de que la proporción muestral sea mayor que 0.45\n",
    "prob = 1 - stats.norm.cdf(z)\n",
    "\n",
    "print(\"Estadístico Z =\", round(z, 4))\n",
    "print(\"Probabilidad de que la proporción muestral > 0.45 =\", round(prob, 4))"
   ]
  }
 ],
 "metadata": {
  "kernelspec": {
   "display_name": "Python 3",
   "language": "python",
   "name": "python3"
  },
  "language_info": {
   "codemirror_mode": {
    "name": "ipython",
    "version": 3
   },
   "file_extension": ".py",
   "mimetype": "text/x-python",
   "name": "python",
   "nbconvert_exporter": "python",
   "pygments_lexer": "ipython3",
   "version": "3.13.1"
  }
 },
 "nbformat": 4,
 "nbformat_minor": 5
}
