{
 "cells": [
  {
   "cell_type": "code",
   "execution_count": null,
   "metadata": {
    "colab": {
     "base_uri": "https://localhost:8080/"
    },
    "executionInfo": {
     "elapsed": 133114,
     "status": "ok",
     "timestamp": 1742601873218,
     "user": {
      "displayName": "Camilo Maldonado",
      "userId": "17673212185211970031"
     },
     "user_tz": 180
    },
    "id": "ORxlLZ_P0pGo",
    "outputId": "eed4a17d-529d-4e05-c41e-d446b42b123c"
   },
   "outputs": [
    {
     "name": "stdout",
     "output_type": "stream",
     "text": [
      "Mounted at /content/drive\n",
      "Conversión exitosa\n",
      "El archivo /content/output.html existe.\n"
     ]
    },
    {
     "data": {
      "application/javascript": "\n    async function download(id, filename, size) {\n      if (!google.colab.kernel.accessAllowed) {\n        return;\n      }\n      const div = document.createElement('div');\n      const label = document.createElement('label');\n      label.textContent = `Downloading \"${filename}\": `;\n      div.appendChild(label);\n      const progress = document.createElement('progress');\n      progress.max = size;\n      div.appendChild(progress);\n      document.body.appendChild(div);\n\n      const buffers = [];\n      let downloaded = 0;\n\n      const channel = await google.colab.kernel.comms.open(id);\n      // Send a message to notify the kernel that we're ready.\n      channel.send({})\n\n      for await (const message of channel.messages) {\n        // Send a message to notify the kernel that we're ready.\n        channel.send({})\n        if (message.buffers) {\n          for (const buffer of message.buffers) {\n            buffers.push(buffer);\n            downloaded += buffer.byteLength;\n            progress.value = downloaded;\n          }\n        }\n      }\n      const blob = new Blob(buffers, {type: 'application/binary'});\n      const a = document.createElement('a');\n      a.href = window.URL.createObjectURL(blob);\n      a.download = filename;\n      div.appendChild(a);\n      a.click();\n      div.remove();\n    }\n  ",
      "text/plain": [
       "<IPython.core.display.Javascript object>"
      ]
     },
     "metadata": {},
     "output_type": "display_data"
    },
    {
     "data": {
      "application/javascript": "download(\"download_a50051fc-e7ff-4a4c-8978-bb713bfd5bde\", \"output.html\", 748128)",
      "text/plain": [
       "<IPython.core.display.Javascript object>"
      ]
     },
     "metadata": {},
     "output_type": "display_data"
    }
   ],
   "source": [
    "# Montar Google Drive\n",
    "from google.colab import drive\n",
    "drive.mount('/content/drive')\n",
    "\n",
    "# Especificar la ruta del archivo .ipynb\n",
    "ipynb_path = '/content/drive/MyDrive/USS/Estadística Avanzada/Python/Camilo_Maldonado_TFS2.ipynb'\n",
    "\n",
    "# Convertir ipynb a html\n",
    "import subprocess\n",
    "import os\n",
    "\n",
    "output_file = \"output.html\"  # Aquí especificas el nombre del archivo de destino\n",
    "output_path = '/content/' + output_file  # Ruta completa del archivo de salida\n",
    "\n",
    "_ = subprocess.run([\"pip\", \"install\", \"nbconvert\"], stdout=subprocess.PIPE, stderr=subprocess.PIPE)\n",
    "result = subprocess.run([\"jupyter\", \"nbconvert\", ipynb_path, \"--to\", \"html\", \"--output\", output_path], stdout=subprocess.PIPE, stderr=subprocess.PIPE)\n",
    "\n",
    "# Verificar si la conversión fue exitosa\n",
    "if result.returncode == 0:\n",
    "    print(\"Conversión exitosa\")\n",
    "    # Verificar si el archivo existe en la ubicación especificada\n",
    "    if os.path.exists(output_path):\n",
    "        print(f\"El archivo {output_path} existe.\")\n",
    "        # Descargar el archivo .html\n",
    "        from google.colab import files\n",
    "        files.download(output_path)\n",
    "    else:\n",
    "        print(f\"El archivo {output_path} no se encontró en la ubicación especificada.\")\n",
    "else:\n",
    "    print(\"Error en la conversión:\")\n",
    "    print(result.stderr.decode())"
   ]
  }
 ],
 "metadata": {
  "colab": {
   "provenance": []
  },
  "kernelspec": {
   "display_name": "Python 3",
   "name": "python3"
  },
  "language_info": {
   "name": "python",
   "version": "3.13.1"
  }
 },
 "nbformat": 4,
 "nbformat_minor": 0
}
